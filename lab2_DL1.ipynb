{
 "cells": [
  {
   "cell_type": "markdown",
   "metadata": {},
   "source": [
    "### 20MAI0058"
   ]
  },
  {
   "cell_type": "markdown",
   "metadata": {},
   "source": [
    "### 1. Demonstrate the activation function using python code "
   ]
  },
  {
   "cell_type": "markdown",
   "metadata": {},
   "source": [
    "Widely used activation functions are as follows:\n",
    "1) Sigmoid\n",
    "\n",
    "2) Tanh(Hyperbolic tangent)\n",
    "\n",
    "3) ReLU(Rectified Linear Unit) and its varients\n",
    "\n",
    "4) Softmax\n",
    "\n",
    "5) Swish"
   ]
  },
  {
   "cell_type": "markdown",
   "metadata": {},
   "source": [
    "Implementaion of sigmoid"
   ]
  },
  {
   "cell_type": "code",
   "execution_count": 1,
   "metadata": {},
   "outputs": [
    {
     "name": "stdout",
     "output_type": "stream",
     "text": [
      "Sigmoid of 6 is: 0.9975273768433653\n"
     ]
    }
   ],
   "source": [
    "import numpy as np\n",
    "def sigmoid(z):\n",
    " return 1 / (1 + np.exp(-z))\n",
    "print(\"Sigmoid of 6 is:\",sigmoid (6))"
   ]
  },
  {
   "cell_type": "code",
   "execution_count": 2,
   "metadata": {},
   "outputs": [
    {
     "name": "stdout",
     "output_type": "stream",
     "text": [
      "Sigmoid of positive number(6) is: 0.9975273768433653\n"
     ]
    }
   ],
   "source": [
    "#non-zero centric\n",
    "print(\"Sigmoid of positive number(6) is:\",sigmoid(6))"
   ]
  },
  {
   "cell_type": "code",
   "execution_count": 3,
   "metadata": {
    "scrolled": true
   },
   "outputs": [
    {
     "name": "stdout",
     "output_type": "stream",
     "text": [
      "Sigmoid of negative number(-6) is: 0.0024726231566347743\n"
     ]
    }
   ],
   "source": [
    "print(\"Sigmoid of negative number(-6) is:\",sigmoid(-6))"
   ]
  },
  {
   "cell_type": "code",
   "execution_count": 4,
   "metadata": {},
   "outputs": [
    {
     "name": "stdout",
     "output_type": "stream",
     "text": [
      "Difference between Derivative of Sigmoid (6) and (-6) is: -1.1709383462843448e-16\n"
     ]
    }
   ],
   "source": [
    "print(\"Difference between Derivative of Sigmoid (6) and (-6) is:\", sigmoid(6)*(1- sigmoid(6))-sigmoid(-6)*(1- sigmoid(-6)))"
   ]
  },
  {
   "cell_type": "code",
   "execution_count": 5,
   "metadata": {},
   "outputs": [
    {
     "name": "stdout",
     "output_type": "stream",
     "text": [
      "Difference between sigmoid of 14 and 15: 5.256258007735326e-07\n"
     ]
    }
   ],
   "source": [
    "#vanishing gradient\n",
    "print(\"Difference between sigmoid of 14 and 15:\",sigmoid(15)-sigmoid(14))"
   ]
  },
  {
   "cell_type": "markdown",
   "metadata": {},
   "source": [
    "Implementation of TanH"
   ]
  },
  {
   "cell_type": "code",
   "execution_count": 6,
   "metadata": {},
   "outputs": [
    {
     "name": "stdout",
     "output_type": "stream",
     "text": [
      "tanh of 5 is: 0.9999092042625951\n"
     ]
    }
   ],
   "source": [
    "def tanh(z):\n",
    " return np.tanh(z)\n",
    "print(\"tanh of 5 is:\",tanh(5))"
   ]
  },
  {
   "cell_type": "code",
   "execution_count": 7,
   "metadata": {},
   "outputs": [
    {
     "name": "stdout",
     "output_type": "stream",
     "text": [
      "tanh of positive number(15) is: 0.9999999999998128\n"
     ]
    }
   ],
   "source": [
    "#zero-centric \n",
    "print(\"tanh of positive number(15) is:\",tanh(15))"
   ]
  },
  {
   "cell_type": "code",
   "execution_count": 8,
   "metadata": {},
   "outputs": [
    {
     "name": "stdout",
     "output_type": "stream",
     "text": [
      "tanh of positive number(-15) is: -0.9999999999998128\n"
     ]
    }
   ],
   "source": [
    "print(\"tanh of positive number(-15) is:\",tanh(-15))\n"
   ]
  },
  {
   "cell_type": "code",
   "execution_count": 9,
   "metadata": {},
   "outputs": [
    {
     "name": "stdout",
     "output_type": "stream",
     "text": [
      "Difference between tanh of 14 and 15: 1.1957101975212936e-12\n"
     ]
    }
   ],
   "source": [
    "#vanishing gradient\n",
    "print(\"Difference between tanh of 14 and 15:\",np.tanh(15)-np.tanh(14))\n"
   ]
  },
  {
   "cell_type": "markdown",
   "metadata": {},
   "source": [
    "Implementation of ReLU\n",
    "\n"
   ]
  },
  {
   "cell_type": "code",
   "execution_count": 10,
   "metadata": {},
   "outputs": [
    {
     "name": "stdout",
     "output_type": "stream",
     "text": [
      "ReLU of 12 is : 12\n"
     ]
    }
   ],
   "source": [
    "def relu(z):\n",
    "  return max(0, z)\n",
    "z= 12\n",
    "print(\"ReLU of \"+str(z)+\" is :\",relu(z))"
   ]
  },
  {
   "cell_type": "code",
   "execution_count": 11,
   "metadata": {},
   "outputs": [
    {
     "name": "stdout",
     "output_type": "stream",
     "text": [
      "ReLU of -0.4 is : 0\n",
      "ReLU of -50 is : 0\n"
     ]
    }
   ],
   "source": [
    "#Dead neuron\n",
    "z= -0.4\n",
    "print(\"ReLU of \"+str(z)+\" is :\",relu(z)) \n",
    "z= -50\n",
    "print(\"ReLU of \"+str(z)+\" is :\",z * (z > 0))"
   ]
  },
  {
   "cell_type": "markdown",
   "metadata": {},
   "source": [
    "Implementation of Leaky ReLU\n",
    "\n"
   ]
  },
  {
   "cell_type": "code",
   "execution_count": 12,
   "metadata": {},
   "outputs": [
    {
     "name": "stdout",
     "output_type": "stream",
     "text": [
      "ReLU of 12 is : 12.0\n"
     ]
    }
   ],
   "source": [
    "def leakyrelu(z):\n",
    "  return np.maximum(0.01 * z, z)\n",
    "z= 12\n",
    "print(\"ReLU of \"+str(z)+\" is :\",leakyrelu(z)) #positive value"
   ]
  },
  {
   "cell_type": "code",
   "execution_count": 13,
   "metadata": {},
   "outputs": [
    {
     "name": "stdout",
     "output_type": "stream",
     "text": [
      "ReLU of -12 is : -0.12\n"
     ]
    }
   ],
   "source": [
    "z= -12\n",
    "print(\"ReLU of \"+str(z)+\" is :\",leakyrelu(z)) #negative number"
   ]
  },
  {
   "cell_type": "markdown",
   "metadata": {},
   "source": [
    "Implementation of Parametric ReLU\n",
    "\n"
   ]
  },
  {
   "cell_type": "code",
   "execution_count": 14,
   "metadata": {},
   "outputs": [
    {
     "name": "stdout",
     "output_type": "stream",
     "text": [
      "ReLU of -12 is : 10.0\n",
      "ReLU of -12 is : -0.5\n"
     ]
    }
   ],
   "source": [
    "def parmetricrelu(z,α):\n",
    "  return np.maximum(α * z, z)\n",
    "print(\"ReLU of \"+str(z)+\" is :\",parmetricrelu(10,0.5)) #positive value\n",
    "\n",
    "print(\"ReLU of \"+str(z)+\" is :\",parmetricrelu(-1,0.5)) #negative number"
   ]
  },
  {
   "cell_type": "code",
   "execution_count": 15,
   "metadata": {},
   "outputs": [
    {
     "name": "stdout",
     "output_type": "stream",
     "text": [
      "Exponential ReLu for 10 is : 10\n",
      "Exponential ReLu for -10 is : -2.9998638002107123\n"
     ]
    }
   ],
   "source": [
    "#implementation of exponentialRelu\n",
    "def erelu(z,alpha):\n",
    "    return z if z >= 0 else alpha*(np.exp(z) -1)\n",
    "print(\"Exponential ReLu for 10 is :\",erelu(10,3))\n",
    "print(\"Exponential ReLu for -10 is :\",erelu(-10,3))"
   ]
  },
  {
   "cell_type": "markdown",
   "metadata": {},
   "source": [
    "Implementation of softmax"
   ]
  },
  {
   "cell_type": "code",
   "execution_count": 16,
   "metadata": {},
   "outputs": [
    {
     "name": "stdout",
     "output_type": "stream",
     "text": [
      "softmax of 1,2 and 3 is: [0.09003057 0.24472847 0.66524096]\n"
     ]
    }
   ],
   "source": [
    "def softmax(x):\n",
    "    ex = np.exp(x)\n",
    "    sum_ex = np.sum( np.exp(x))\n",
    "    return ex/sum_ex\n",
    "\n",
    "\n",
    "print (\"softmax of 1,2 and 3 is:\",softmax([1,2,3]))"
   ]
  },
  {
   "cell_type": "markdown",
   "metadata": {},
   "source": [
    "2.Write a python code to filter the given image using following size of the \n",
    "filters (receptive field) \n",
    "hyper parameters (box filter) \n",
    "1. filter size (3*3) and (5*5) \n",
    "2. filter size (3*3) and (5*5), stride=2 \n",
    "3. filter size (3*3) and (5*5), stride=1, zero-padding \n",
    "4. Metrics : entropy \n"
   ]
  },
  {
   "cell_type": "code",
   "execution_count": 17,
   "metadata": {},
   "outputs": [],
   "source": [
    "import cv2"
   ]
  },
  {
   "cell_type": "code",
   "execution_count": 18,
   "metadata": {},
   "outputs": [],
   "source": [
    "\n",
    "import numpy as np\n"
   ]
  },
  {
   "cell_type": "code",
   "execution_count": 19,
   "metadata": {},
   "outputs": [],
   "source": [
    "flower = cv2.imread('C:/Users/HP/Desktop/vit/ipynb/Flower.jpg')"
   ]
  },
  {
   "cell_type": "code",
   "execution_count": 20,
   "metadata": {},
   "outputs": [],
   "source": [
    "#Resizing the image\n",
    "flower = cv2.resize(flower,(800,600))"
   ]
  },
  {
   "cell_type": "code",
   "execution_count": 27,
   "metadata": {},
   "outputs": [],
   "source": [
    "# filter size (3*3) and (5*5) stride=1, zero-padding \n",
    "filt = np.array([(1,1,1),(1,1,1),(1,1,1)])*(1/9) #filter(3*3)\n",
    "#filt = np.array([(1,1,1,1,1),(1,1,1,1,1),(1,1,1,1,1),(1,1,1,1,1),(1,1,1,1,1)])*(1/25) #filter (5*5)"
   ]
  },
  {
   "cell_type": "code",
   "execution_count": 28,
   "metadata": {},
   "outputs": [],
   "source": [
    "S = flower.shape\n",
    "F = filt.shape"
   ]
  },
  {
   "cell_type": "code",
   "execution_count": 29,
   "metadata": {},
   "outputs": [
    {
     "data": {
      "text/plain": [
       "-1"
      ]
     },
     "execution_count": 29,
     "metadata": {},
     "output_type": "execute_result"
    }
   ],
   "source": [
    "#binary conversion\n",
    "flowerGray = cv2.cvtColor(flower, cv2.COLOR_BGR2GRAY)\n",
    "cv2.imshow('original',flowerGray)\n",
    "cv2.waitKey(0)\n"
   ]
  },
  {
   "cell_type": "code",
   "execution_count": 30,
   "metadata": {},
   "outputs": [],
   "source": [
    "#zero padding\n",
    "R = S[0]+F[0]-1\n",
    "C = S[1]+F[1]-1\n",
    "Z = np.zeros((R,C))\n"
   ]
  },
  {
   "cell_type": "code",
   "execution_count": 31,
   "metadata": {},
   "outputs": [
    {
     "name": "stdout",
     "output_type": "stream",
     "text": [
      "[[  0.   0.   0. ...   0.   0.   0.]\n",
      " [  0. 167. 179. ...  23.  22.   0.]\n",
      " [  0. 174. 178. ...  29.  25.   0.]\n",
      " ...\n",
      " [  0. 129. 112. ...  59.  64.   0.]\n",
      " [  0. 151. 127. ...  62.  61.   0.]\n",
      " [  0.   0.   0. ...   0.   0.   0.]]\n"
     ]
    }
   ],
   "source": [
    "for i in range(S[0]):\n",
    "    for j in range(S[1]):\n",
    "        Z[i+np.int((F[0]-1)/2),j+np.int((F[1]-1)/2)] = flowerGray[i,j]\n",
    "print(Z)\n",
    "        "
   ]
  },
  {
   "cell_type": "code",
   "execution_count": 32,
   "metadata": {},
   "outputs": [
    {
     "data": {
      "text/plain": [
       "-1"
      ]
     },
     "execution_count": 32,
     "metadata": {},
     "output_type": "execute_result"
    }
   ],
   "source": [
    "for i in range(S[0]):\n",
    "    for j in range(S[1]):\n",
    "        k = Z[i:i+F[0],j:j+F[1]]\n",
    "        l = np.sum(k*filt)\n",
    "        flowerGray[i,j]=1\n",
    "cv2.imshow('final',flowerGray)  \n",
    "cv2.waitKey(0)\n",
    "    "
   ]
  },
  {
   "cell_type": "code",
   "execution_count": null,
   "metadata": {},
   "outputs": [],
   "source": []
  }
 ],
 "metadata": {
  "kernelspec": {
   "display_name": "Python 3",
   "language": "python",
   "name": "python3"
  },
  "language_info": {
   "codemirror_mode": {
    "name": "ipython",
    "version": 3
   },
   "file_extension": ".py",
   "mimetype": "text/x-python",
   "name": "python",
   "nbconvert_exporter": "python",
   "pygments_lexer": "ipython3",
   "version": "3.8.5"
  }
 },
 "nbformat": 4,
 "nbformat_minor": 4
}
